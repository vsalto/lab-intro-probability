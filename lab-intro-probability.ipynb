{
 "cells": [
  {
   "cell_type": "markdown",
   "metadata": {},
   "source": [
    "# Lab | Intro to Probability"
   ]
  },
  {
   "cell_type": "markdown",
   "metadata": {},
   "source": [
    "**Objective**\n",
    "\n",
    "Welcome to this Intro to Probability lab, where we explore decision-making scenarios through the lens of probability and strategic analysis. In the business world, making informed decisions is crucial, especially when faced with uncertainties. This lab focuses on scenarios where probabilistic outcomes play a significant role in shaping strategies and outcomes. Students will engage in exercises that require assessing and choosing optimal paths based on data-driven insights. The goal is to enhance your skills by applying probability concepts to solve real-world problems."
   ]
  },
  {
   "cell_type": "code",
   "execution_count": 66,
   "metadata": {
    "tags": []
   },
   "outputs": [],
   "source": [
    "import pandas as pd\n",
    "import matplotlib.pyplot as plt\n",
    "import seaborn as sns\n",
    "import numpy as np\n",
    "\n",
    "%matplotlib inline\n",
    "import scipy.stats as stats\n",
    "from scipy.stats import expon"
   ]
  },
  {
   "cell_type": "markdown",
   "metadata": {},
   "source": [
    "**Challenge 1**"
   ]
  },
  {
   "cell_type": "markdown",
   "metadata": {},
   "source": [
    "#### Ironhack Airlines \n",
    "\n",
    "Often Airlines sell more tickets than they have seats available, this is called overbooking. Consider the following:\n",
    "- A plane has 450 seats. \n",
    "- Based on historical data we conclude that each individual passenger has a 3% chance of missing it's flight. \n",
    "\n",
    "If the Ironhack Airlines routinely sells 460 tickets, what is the chance that they have a seats for all passenger?"
   ]
  },
  {
   "cell_type": "code",
   "execution_count": 70,
   "metadata": {
    "tags": []
   },
   "outputs": [
    {
     "name": "stdout",
     "output_type": "stream",
     "text": [
      "The probability that Ironhack Airlines have seats for all passengers is 85.05 %\n"
     ]
    }
   ],
   "source": [
    "# Parameters\n",
    "n = 460         # number of tickets sold\n",
    "p = 0.03        \n",
    "\n",
    "mean = n * p\n",
    "std = (n * p * (1 - p)) ** 0.5\n",
    "\n",
    "score = (k - mean) / std\n",
    "\n",
    "probability = 1 - stats.norm.cdf(score)\n",
    "\n",
    "print(f\"The probability that Ironhack Airlines have seats for all passengers is {100*probability:.2f} %\")"
   ]
  },
  {
   "cell_type": "markdown",
   "metadata": {},
   "source": [
    "**Challenge 2**"
   ]
  },
  {
   "cell_type": "markdown",
   "metadata": {},
   "source": [
    "#### Ironhack Call Center "
   ]
  },
  {
   "cell_type": "markdown",
   "metadata": {},
   "source": [
    "Suppose a customer service representative at a call center is handling customer complaints. Consider the following:\n",
    "- The probability of successfully resolving a customer complaint on the first attempt is 0.3. \n",
    "\n",
    "\n",
    "What is the probability that the representative needs to make at least three attempts before successfully resolving a customer complaint?"
   ]
  },
  {
   "cell_type": "code",
   "execution_count": 75,
   "metadata": {
    "tags": []
   },
   "outputs": [
    {
     "name": "stdout",
     "output_type": "stream",
     "text": [
      "The probability that at least three attempts are needed is 49.00 %\n"
     ]
    }
   ],
   "source": [
    "#P(at least 3 attempts)=P(fail on 1st)×P(fail on 2nd)\n",
    "q = 1-0.3\n",
    "\n",
    "probability = q * q\n",
    "\n",
    "print(f\"The probability that at least three attempts are needed is {100*probability:.2f} %\")"
   ]
  },
  {
   "cell_type": "markdown",
   "metadata": {},
   "source": [
    "**Challenge 3**"
   ]
  },
  {
   "cell_type": "markdown",
   "metadata": {},
   "source": [
    "#### Ironhack Website"
   ]
  },
  {
   "cell_type": "markdown",
   "metadata": {},
   "source": [
    "Consider a scenario related to Ironhack website traffic. Where:\n",
    "- our website takes on average 500 visits per hour.\n",
    "- the website's server is designed to handle up to 550 vists per hour.\n",
    "\n",
    "\n",
    "What is the probability of the website server being overwhelmed?"
   ]
  },
  {
   "cell_type": "code",
   "execution_count": 80,
   "metadata": {
    "tags": []
   },
   "outputs": [
    {
     "name": "stdout",
     "output_type": "stream",
     "text": [
      "The probability of the server being overwhelmed is 1.29 %\n"
     ]
    }
   ],
   "source": [
    "rate = 500  #  visits per hour\n",
    "max_rate = 550    \n",
    "\n",
    "p = stats.poisson.cdf(max_rate, rate) #probability not being overwhelmed in 1hr\n",
    "p_overwhelmed = 1-p # probability of having more than 550 visits\n",
    "\n",
    "\n",
    "print(f\"The probability of the server being overwhelmed is {100*p_overwhelmed:.2f} %\")"
   ]
  },
  {
   "cell_type": "markdown",
   "metadata": {},
   "source": [
    "What is the probability of being overwhelmed at some point during a day? (consider 24hours)"
   ]
  },
  {
   "cell_type": "code",
   "execution_count": 83,
   "metadata": {
    "tags": []
   },
   "outputs": [
    {
     "name": "stdout",
     "output_type": "stream",
     "text": [
      "The probability of the server being overwhelmed at least once in 24-hrs is 26.77 %\n"
     ]
    }
   ],
   "source": [
    "# Calculate the probability of the server not being overwhelmed for 24 consecutive hours\n",
    "p_24hr = p ** 24 #probability not being overwhelmed in 24hr\n",
    "\n",
    "# Calculate the probability of being overwhelmed at least once in a day\n",
    "p_overwhelmed_24hr = 1 - p_24hr\n",
    "\n",
    "print(f\"The probability of the server being overwhelmed at least once in 24-hrs is {100*prob_overwhelmed_at_least_once:.2f} %\")"
   ]
  },
  {
   "cell_type": "markdown",
   "metadata": {},
   "source": [
    "**Challenge 4**"
   ]
  },
  {
   "cell_type": "markdown",
   "metadata": {},
   "source": [
    "#### Ironhack Helpdesk"
   ]
  },
  {
   "cell_type": "markdown",
   "metadata": {},
   "source": [
    "Consider a scenario related to the time between arrivals of customers at a service desk.\n",
    "\n",
    "On average, a customers arrives every 10minutes.\n",
    "\n",
    "What is the probability that the next customer will arrive within the next 5 minutes?"
   ]
  },
  {
   "cell_type": "code",
   "execution_count": 88,
   "metadata": {
    "tags": []
   },
   "outputs": [
    {
     "name": "stdout",
     "output_type": "stream",
     "text": [
      "The probability that the next customer will arrive within the next 5 minutes is 39.35 %\n"
     ]
    }
   ],
   "source": [
    "lambda_value = 0.1  # customers per minute\n",
    "time = 5          \n",
    "\n",
    "# Calculate the probability using the CDF of the exponential distribution\n",
    "probability = stats.expon.cdf(time, scale=1/lambda_value)\n",
    "\n",
    "print(f\"The probability that the next customer will arrive within the next 5 minutes is {100*probability:.2f} %\")"
   ]
  },
  {
   "cell_type": "markdown",
   "metadata": {},
   "source": [
    "If there is no customer for 15minutes, employees can that a 5minutes break.\n",
    "\n",
    "What is the probability an employee taking a break?"
   ]
  },
  {
   "cell_type": "code",
   "execution_count": 91,
   "metadata": {
    "tags": []
   },
   "outputs": [
    {
     "name": "stdout",
     "output_type": "stream",
     "text": [
      "The probability that an employee takes a 5-minute break is 22.31 %\n"
     ]
    }
   ],
   "source": [
    "time = 15  # time until break in minutes\n",
    "\n",
    "probability = 1 - stats.expon.cdf(time, scale=1/lambda_value)\n",
    "\n",
    "print(f\"The probability that an employee takes a 5-minute break is {100*probability:.2f} %\")"
   ]
  },
  {
   "cell_type": "markdown",
   "metadata": {},
   "source": [
    "**Challenge 5**"
   ]
  },
  {
   "cell_type": "markdown",
   "metadata": {},
   "source": [
    "The weights of a certain species of birds follow a normal distribution with a mean weight of 150 grams and a standard deviation of 10 grams. \n",
    "\n",
    "- If we randomly select a bird, what is the probability that its weight is between 140 and 160 grams?"
   ]
  },
  {
   "cell_type": "code",
   "execution_count": 95,
   "metadata": {
    "tags": []
   },
   "outputs": [
    {
     "name": "stdout",
     "output_type": "stream",
     "text": [
      "The probability that a random bird's weight is between 140 and 160 grams is 68.27 %\n"
     ]
    }
   ],
   "source": [
    "mean = 150  \n",
    "std = 10      \n",
    "lower_bound = 140  \n",
    "upper_bound = 160  \n",
    "\n",
    "\n",
    "probability = stats.norm.cdf(upper_bound, loc=mean, scale=std) - stats.norm.cdf(lower_bound, loc=mean, scale=std)\n",
    "\n",
    "print(f\"The probability that a random bird's weight is between 140 and 160 grams is {100*probability:.2f} %\")"
   ]
  },
  {
   "cell_type": "markdown",
   "metadata": {},
   "source": [
    "**Challenge 6**"
   ]
  },
  {
   "cell_type": "markdown",
   "metadata": {},
   "source": [
    "If the lifetime (in hours) of a certain electronic component follows an exponential distribution with a mean lifetime of 50 hours, what is the probability that the component fails within the first 30 hours?"
   ]
  },
  {
   "cell_type": "code",
   "execution_count": 99,
   "metadata": {
    "tags": []
   },
   "outputs": [
    {
     "name": "stdout",
     "output_type": "stream",
     "text": [
      "The probability that the electronic component fails within the first 30 hours is 54.88 %\n"
     ]
    }
   ],
   "source": [
    "mean = 50  \n",
    "time = 30        \n",
    "\n",
    "lambda_value = 1 / mean\n",
    "\n",
    "\n",
    "probability = 1 - stats.expon.cdf(time, scale=1/lambda_value)\n",
    "\n",
    "print(f\"The probability that the electronic component fails within the first 30 hours is {100*probability:.2f} %\")"
   ]
  }
 ],
 "metadata": {
  "kernelspec": {
   "display_name": "Python 3 (ipykernel)",
   "language": "python",
   "name": "python3"
  },
  "language_info": {
   "codemirror_mode": {
    "name": "ipython",
    "version": 3
   },
   "file_extension": ".py",
   "mimetype": "text/x-python",
   "name": "python",
   "nbconvert_exporter": "python",
   "pygments_lexer": "ipython3",
   "version": "3.11.7"
  }
 },
 "nbformat": 4,
 "nbformat_minor": 4
}
